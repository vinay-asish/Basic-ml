{
  "nbformat": 4,
  "nbformat_minor": 0,
  "metadata": {
    "colab": {
      "name": "basic ml.ipynb",
      "provenance": []
    },
    "kernelspec": {
      "name": "python3",
      "display_name": "Python 3"
    },
    "language_info": {
      "name": "python"
    }
  },
  "cells": [
    {
      "cell_type": "code",
      "metadata": {
        "colab": {
          "base_uri": "https://localhost:8080/"
        },
        "id": "MbhULpqx3jJI",
        "outputId": "96ba167c-060f-4c5c-afbe-5e252dae8824"
      },
      "source": [
        "#this is a python program to print sum of digits\n",
        " \n",
        "#take input\n",
        "n=int(input())\n",
        "#assign 0 to a var sum\n",
        "sum=0\n",
        "while n>0:\n",
        "  sum+=n%10\n",
        "  n=n//10\n",
        "#now print sum\n",
        "print(sum)"
      ],
      "execution_count": 1,
      "outputs": [
        {
          "output_type": "stream",
          "text": [
            "555\n",
            "15\n"
          ],
          "name": "stdout"
        }
      ]
    },
    {
      "cell_type": "code",
      "metadata": {
        "colab": {
          "base_uri": "https://localhost:8080/"
        },
        "id": "Yvme8D7333wC",
        "outputId": "ce0606e9-32cd-47cd-9da2-20e217e6bc45"
      },
      "source": [
        "#this is python program to print max of 3 numbers\n",
        "\n",
        "#take 3 inputs\n",
        "a=int(input())\n",
        "b=int(input())\n",
        "c=int(input())\n",
        "#if a is max\n",
        "if a>b and a>c:\n",
        "  print(\"a is max\")\n",
        "#if b is max \n",
        "if b>a and b>c:\n",
        "  print(\"b is max\")\n",
        "#if c is max\n",
        "if c>b and c>a:\n",
        "  print(\"c is max\")"
      ],
      "execution_count": 5,
      "outputs": [
        {
          "output_type": "stream",
          "text": [
            "3\n",
            "45\n",
            "67\n",
            "c is max\n"
          ],
          "name": "stdout"
        }
      ]
    },
    {
      "cell_type": "code",
      "metadata": {
        "colab": {
          "base_uri": "https://localhost:8080/"
        },
        "id": "KBpR9SM44aId",
        "outputId": "bce86fc9-ea12-4bb8-8f94-449f23182166"
      },
      "source": [
        "#python program to find mean for first n numbers\n",
        "n=int(input())\n",
        "s=0\n",
        "for i in range(1,n+1):\n",
        "  s+=i\n",
        "#mean=sum of observations /no of observations\n",
        "mean=s/n\n",
        "print(mean)"
      ],
      "execution_count": 6,
      "outputs": [
        {
          "output_type": "stream",
          "text": [
            "10\n",
            "5.5\n"
          ],
          "name": "stdout"
        }
      ]
    }
  ]
}